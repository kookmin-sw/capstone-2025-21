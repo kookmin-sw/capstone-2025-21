{
  "cells": [
    {
      "cell_type": "code",
      "source": [
        "!pip install paddlepaddle-gpu # gpu 사용이 불가능할 경우 paddlepaddle 설치\n",
        "!pip install paddleocr"
      ],
      "metadata": {
        "id": "9ot_pEUqfjBU"
      },
      "execution_count": null,
      "outputs": []
    },
    {
      "cell_type": "code",
      "source": [
        "from paddleocr import PaddleOCR\n",
        "import json\n",
        "\n",
        "ocr = PaddleOCR(lang=\"korean\")\n",
        "\n",
        "with open(\"translated_menu_structured.json\", \"r\", encoding=\"utf-8\") as f:\n",
        "    menu_database = json.load(f)\n",
        "menu_names = set()\n",
        "for item in menu_database:\n",
        "    menu_names.add(item[\"menu_name\"][\"ko\"])"
      ],
      "metadata": {
        "colab": {
          "base_uri": "https://localhost:8080/"
        },
        "id": "hL3Xh6B-astU",
        "outputId": "c53e367b-42ee-446a-a06d-1e84c6d9b15b"
      },
      "execution_count": 2,
      "outputs": [
        {
          "output_type": "stream",
          "name": "stdout",
          "text": [
            "download https://paddleocr.bj.bcebos.com/PP-OCRv3/multilingual/Multilingual_PP-OCRv3_det_infer.tar to /root/.paddleocr/whl/det/ml/Multilingual_PP-OCRv3_det_infer/Multilingual_PP-OCRv3_det_infer.tar\n"
          ]
        },
        {
          "output_type": "stream",
          "name": "stderr",
          "text": [
            "100%|██████████| 3762/3762 [00:00<00:00, 4592.16it/s]\n"
          ]
        },
        {
          "output_type": "stream",
          "name": "stdout",
          "text": [
            "download https://paddleocr.bj.bcebos.com/PP-OCRv4/multilingual/korean_PP-OCRv4_rec_infer.tar to /root/.paddleocr/whl/rec/korean/korean_PP-OCRv4_rec_infer/korean_PP-OCRv4_rec_infer.tar\n"
          ]
        },
        {
          "output_type": "stream",
          "name": "stderr",
          "text": [
            "100%|██████████| 23810/23810 [00:01<00:00, 13662.41it/s]\n"
          ]
        },
        {
          "output_type": "stream",
          "name": "stdout",
          "text": [
            "download https://paddleocr.bj.bcebos.com/dygraph_v2.0/ch/ch_ppocr_mobile_v2.0_cls_infer.tar to /root/.paddleocr/whl/cls/ch_ppocr_mobile_v2.0_cls_infer/ch_ppocr_mobile_v2.0_cls_infer.tar\n"
          ]
        },
        {
          "output_type": "stream",
          "name": "stderr",
          "text": [
            "100%|██████████| 2138/2138 [00:00<00:00, 3312.79it/s]"
          ]
        },
        {
          "output_type": "stream",
          "name": "stdout",
          "text": [
            "[2025/05/03 23:22:48] ppocr DEBUG: Namespace(help='==SUPPRESS==', use_gpu=True, use_xpu=False, use_npu=False, use_mlu=False, use_gcu=False, ir_optim=True, use_tensorrt=False, min_subgraph_size=15, precision='fp32', gpu_mem=500, gpu_id=0, image_dir=None, page_num=0, det_algorithm='DB', det_model_dir='/root/.paddleocr/whl/det/ml/Multilingual_PP-OCRv3_det_infer', det_limit_side_len=960, det_limit_type='max', det_box_type='quad', det_db_thresh=0.3, det_db_box_thresh=0.6, det_db_unclip_ratio=1.5, max_batch_size=10, use_dilation=False, det_db_score_mode='fast', det_east_score_thresh=0.8, det_east_cover_thresh=0.1, det_east_nms_thresh=0.2, det_sast_score_thresh=0.5, det_sast_nms_thresh=0.2, det_pse_thresh=0, det_pse_box_thresh=0.85, det_pse_min_area=16, det_pse_scale=1, scales=[8, 16, 32], alpha=1.0, beta=1.0, fourier_degree=5, rec_algorithm='SVTR_LCNet', rec_model_dir='/root/.paddleocr/whl/rec/korean/korean_PP-OCRv4_rec_infer', rec_image_inverse=True, rec_image_shape='3, 48, 320', rec_batch_num=6, max_text_length=25, rec_char_dict_path='/usr/local/lib/python3.11/dist-packages/paddleocr/ppocr/utils/dict/korean_dict.txt', use_space_char=True, vis_font_path='./doc/fonts/simfang.ttf', drop_score=0.5, e2e_algorithm='PGNet', e2e_model_dir=None, e2e_limit_side_len=768, e2e_limit_type='max', e2e_pgnet_score_thresh=0.5, e2e_char_dict_path='./ppocr/utils/ic15_dict.txt', e2e_pgnet_valid_set='totaltext', e2e_pgnet_mode='fast', use_angle_cls=False, cls_model_dir='/root/.paddleocr/whl/cls/ch_ppocr_mobile_v2.0_cls_infer', cls_image_shape='3, 48, 192', label_list=['0', '180'], cls_batch_num=6, cls_thresh=0.9, enable_mkldnn=False, cpu_threads=10, use_pdserving=False, warmup=False, sr_model_dir=None, sr_image_shape='3, 32, 128', sr_batch_num=1, draw_img_save_dir='./inference_results', save_crop_res=False, crop_res_save_dir='./output', use_mp=False, total_process_num=1, process_id=0, benchmark=False, save_log_path='./log_output/', show_log=True, use_onnx=False, onnx_providers=False, onnx_sess_options=False, return_word_box=False, output='./output', table_max_len=488, table_algorithm='TableAttn', table_model_dir=None, merge_no_span_structure=True, table_char_dict_path=None, formula_algorithm='LaTeXOCR', formula_model_dir=None, formula_char_dict_path=None, formula_batch_num=1, layout_model_dir=None, layout_dict_path=None, layout_score_threshold=0.5, layout_nms_threshold=0.5, kie_algorithm='LayoutXLM', ser_model_dir=None, re_model_dir=None, use_visual_backbone=True, ser_dict_path='../train_data/XFUND/class_list_xfun.txt', ocr_order_method=None, mode='structure', image_orientation=False, layout=True, table=True, formula=False, ocr=True, recovery=False, recovery_to_markdown=False, use_pdf2docx_api=False, invert=False, binarize=False, alphacolor=(255, 255, 255), lang='korean', det=True, rec=True, type='ocr', savefile=False, ocr_version='PP-OCRv4', structure_version='PP-StructureV2')\n",
            "[2025/05/03 23:22:48] ppocr WARNING: The first GPU is used for inference by default, GPU ID: 0\n"
          ]
        },
        {
          "output_type": "stream",
          "name": "stderr",
          "text": [
            "\n"
          ]
        },
        {
          "output_type": "stream",
          "name": "stdout",
          "text": [
            "[2025/05/03 23:22:49] ppocr WARNING: The first GPU is used for inference by default, GPU ID: 0\n"
          ]
        }
      ]
    },
    {
      "cell_type": "code",
      "source": [
        "img_path = \"test7.jpg\"\n",
        "result = ocr.ocr(img_path, cls=False)\n",
        "\n",
        "recognized_texts = [item[1][0] for item in result[0]]\n",
        "\n",
        "print(recognized_texts)"
      ],
      "metadata": {
        "colab": {
          "base_uri": "https://localhost:8080/"
        },
        "id": "H5m9VvN_a82p",
        "outputId": "4a10726b-115a-4234-d253-31a07a24b4b1"
      },
      "execution_count": 3,
      "outputs": [
        {
          "output_type": "stream",
          "name": "stdout",
          "text": [
            "[2025/05/03 23:22:55] ppocr DEBUG: dt_boxes num : 56, elapsed : 1.029862880706787\n",
            "[2025/05/03 23:22:55] ppocr DEBUG: rec_res num  : 56, elapsed : 0.6708812713623047\n",
            "['한식당', '메뉴판', '식사류', '비빔밥', '추천', '떡이', '추천', '김치볶음밥', 'Bibimbap', 'Stir-fried Rice Cake', 'Kimchi Fried Rice', '신선한채소고기계란등다양한재료를적당한', '매운고추장소스에폴깃한떡이어우러져특유', '그리고다양한재료들을함께', '비율로섞어즐기는', '전통한국요리', '의매콤달콤한맛이일픔', '볶아내어만든', '김치볶음밥', '12000', '8000', '9000', '갈비구이', '김치전', '해물파전', 'Grilled', 'Marinated Galbi', 'Kimchi Pancake', 'Seafood', 'I and Green Onion Pancake', '한우갈비를달콤하고고소한간장양념에재워', '김치밀가루다양한양념으로만들어팬에구운', '신선한해산물과파를넣은반죽을팬에구운고', '구운전통적인한국요리', '한국전요리', '소한전요리', '#18000', '13000', 'W15000', '면류', '음료', '라면', '\"5000', '탄산음료', 'W3000', '냉면', '7000', '오렌지주스', '3000', '멸치국수', '#8000', '원산지:', '소고기국산', '돼지고기독일산', '쌀국산', '해산물국산']\n"
          ]
        }
      ]
    },
    {
      "cell_type": "code",
      "source": [
        "menu_only = set([word for word in recognized_texts if word in menu_names])\n",
        "\n",
        "print(menu_only)\n",
        "\n",
        "# menu_only를 메뉴 추천 모델에 전달"
      ],
      "metadata": {
        "colab": {
          "base_uri": "https://localhost:8080/"
        },
        "id": "y5hg1bt1a_Zc",
        "outputId": "03e4dd6e-67d9-4c04-c55e-9a164e16ef42"
      },
      "execution_count": 6,
      "outputs": [
        {
          "output_type": "stream",
          "name": "stdout",
          "text": [
            "{'비빔밥', '김치전', '갈비구이', '오렌지주스', '냉면', '김치볶음밥', '멸치국수', '해물파전', '음료', '라면'}\n"
          ]
        }
      ]
    }
  ],
  "metadata": {
    "accelerator": "GPU",
    "colab": {
      "gpuType": "T4",
      "provenance": []
    },
    "kernelspec": {
      "display_name": "Python 3",
      "name": "python3"
    },
    "language_info": {
      "name": "python"
    }
  },
  "nbformat": 4,
  "nbformat_minor": 0
}