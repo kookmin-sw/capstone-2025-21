{
 "cells": [
  {
   "cell_type": "code",
   "execution_count": 1,
   "metadata": {},
   "outputs": [],
   "source": [
    "# 필요한 패키지 설치 (Colab 환경에서는 필요 시 주석 해제)\n",
    "# !pip install sentence-transformers\n",
    "\n",
    "from sentence_transformers import SentenceTransformer\n",
    "import numpy as np\n",
    "import json\n",
    "from sklearn.metrics.pairwise import cosine_similarity"
   ]
  },
  {
   "cell_type": "code",
   "execution_count": 2,
   "metadata": {},
   "outputs": [],
   "source": [
    "with open(\"translated_menu_structured.json\", \"r\", encoding=\"utf-8\") as f:\n",
    "    menu_database = json.load(f)"
   ]
  },
  {
   "cell_type": "code",
   "execution_count": 3,
   "metadata": {},
   "outputs": [],
   "source": [
    "def extract_menu_info(korean_menu_name):\n",
    "    for item in menu_database:\n",
    "        if item[\"menu_name\"][\"ko\"] == korean_menu_name:\n",
    "            return {\n",
    "                \"menu_name_translations\": {\n",
    "                    \"en\": item[\"menu_name\"].get(\"en\", \"\"),\n",
    "                    \"zh\": item[\"menu_name\"].get(\"zh\", \"\"),\n",
    "                    \"ja\": item[\"menu_name\"].get(\"ja\", \"\")\n",
    "                },\n",
    "                \"ingredients\": item[\"ingredients\"].get(\"ko\", \"\")\n",
    "            }\n",
    "    return None"
   ]
  },
  {
   "cell_type": "code",
   "execution_count": 4,
   "metadata": {},
   "outputs": [
    {
     "data": {
      "application/vnd.jupyter.widget-view+json": {
       "model_id": "bdaa2a8e9d434228afe65bd813f2844f",
       "version_major": 2,
       "version_minor": 0
      },
      "text/plain": [
       "modules.json:   0%|          | 0.00/229 [00:00<?, ?B/s]"
      ]
     },
     "metadata": {},
     "output_type": "display_data"
    },
    {
     "data": {
      "application/vnd.jupyter.widget-view+json": {
       "model_id": "58886657040b496182c93e16447e72ab",
       "version_major": 2,
       "version_minor": 0
      },
      "text/plain": [
       "config_sentence_transformers.json:   0%|          | 0.00/122 [00:00<?, ?B/s]"
      ]
     },
     "metadata": {},
     "output_type": "display_data"
    },
    {
     "data": {
      "application/vnd.jupyter.widget-view+json": {
       "model_id": "cf3d5a828b05427b9d48fd0b6d3a80aa",
       "version_major": 2,
       "version_minor": 0
      },
      "text/plain": [
       "README.md:   0%|          | 0.00/3.90k [00:00<?, ?B/s]"
      ]
     },
     "metadata": {},
     "output_type": "display_data"
    },
    {
     "data": {
      "application/vnd.jupyter.widget-view+json": {
       "model_id": "06a76f8f94dd43b1b92b3e74cf1f5b88",
       "version_major": 2,
       "version_minor": 0
      },
      "text/plain": [
       "sentence_bert_config.json:   0%|          | 0.00/53.0 [00:00<?, ?B/s]"
      ]
     },
     "metadata": {},
     "output_type": "display_data"
    },
    {
     "data": {
      "application/vnd.jupyter.widget-view+json": {
       "model_id": "f9c23f64f9604b2fb3bd89a5e8ce976c",
       "version_major": 2,
       "version_minor": 0
      },
      "text/plain": [
       "config.json:   0%|          | 0.00/723 [00:00<?, ?B/s]"
      ]
     },
     "metadata": {},
     "output_type": "display_data"
    },
    {
     "name": "stderr",
     "output_type": "stream",
     "text": [
      "Xet Storage is enabled for this repo, but the 'hf_xet' package is not installed. Falling back to regular HTTP download. For better performance, install the package with: `pip install huggingface_hub[hf_xet]` or `pip install hf_xet`\n"
     ]
    },
    {
     "data": {
      "application/vnd.jupyter.widget-view+json": {
       "model_id": "c990f4dc3f2b418aa69379701e280239",
       "version_major": 2,
       "version_minor": 0
      },
      "text/plain": [
       "model.safetensors:   0%|          | 0.00/1.11G [00:00<?, ?B/s]"
      ]
     },
     "metadata": {},
     "output_type": "display_data"
    },
    {
     "data": {
      "application/vnd.jupyter.widget-view+json": {
       "model_id": "8332872d320840cca337ff93c64e61a5",
       "version_major": 2,
       "version_minor": 0
      },
      "text/plain": [
       "tokenizer_config.json:   0%|          | 0.00/402 [00:00<?, ?B/s]"
      ]
     },
     "metadata": {},
     "output_type": "display_data"
    },
    {
     "name": "stderr",
     "output_type": "stream",
     "text": [
      "Xet Storage is enabled for this repo, but the 'hf_xet' package is not installed. Falling back to regular HTTP download. For better performance, install the package with: `pip install huggingface_hub[hf_xet]` or `pip install hf_xet`\n"
     ]
    },
    {
     "data": {
      "application/vnd.jupyter.widget-view+json": {
       "model_id": "539eda58fa9443fc8570ee1b1f85dbc3",
       "version_major": 2,
       "version_minor": 0
      },
      "text/plain": [
       "sentencepiece.bpe.model:   0%|          | 0.00/5.07M [00:00<?, ?B/s]"
      ]
     },
     "metadata": {},
     "output_type": "display_data"
    },
    {
     "data": {
      "application/vnd.jupyter.widget-view+json": {
       "model_id": "fbad1eadf7924ec8ab03df6c9dc94d80",
       "version_major": 2,
       "version_minor": 0
      },
      "text/plain": [
       "tokenizer.json:   0%|          | 0.00/9.08M [00:00<?, ?B/s]"
      ]
     },
     "metadata": {},
     "output_type": "display_data"
    },
    {
     "data": {
      "application/vnd.jupyter.widget-view+json": {
       "model_id": "9adf38e4df0949529a97bf409ae288b1",
       "version_major": 2,
       "version_minor": 0
      },
      "text/plain": [
       "special_tokens_map.json:   0%|          | 0.00/239 [00:00<?, ?B/s]"
      ]
     },
     "metadata": {},
     "output_type": "display_data"
    },
    {
     "data": {
      "application/vnd.jupyter.widget-view+json": {
       "model_id": "f6baf72adb614c01b99eb9b615d6e1ef",
       "version_major": 2,
       "version_minor": 0
      },
      "text/plain": [
       "config.json:   0%|          | 0.00/190 [00:00<?, ?B/s]"
      ]
     },
     "metadata": {},
     "output_type": "display_data"
    },
    {
     "data": {
      "application/vnd.jupyter.widget-view+json": {
       "model_id": "bd394431647b4da5acaf30a4b6685127",
       "version_major": 2,
       "version_minor": 0
      },
      "text/plain": [
       "Batches:   0%|          | 0/860 [00:00<?, ?it/s]"
      ]
     },
     "metadata": {},
     "output_type": "display_data"
    },
    {
     "name": "stdout",
     "output_type": "stream",
     "text": [
      "임베딩 생성 완료, 임베딩 shape: (55019, 768)\n"
     ]
    }
   ],
   "source": [
    "# 다국어 지원 S-BERT 모델 로드 (예: paraphrase-multilingual-mpnet-base-v2)\n",
    "model = SentenceTransformer(\"paraphrase-multilingual-mpnet-base-v2\")\n",
    "\n",
    "# 전처리된 텍스트 리스트 추출\n",
    "texts = [item[\"menu_name\"][\"ko\"] + \": \" + item[\"ingredients\"][\"ko\"] for item in menu_database]\n",
    "\n",
    "# S-BERT를 통해 임베딩 생성 (대량 데이터의 경우 배치 사이즈 조절)\n",
    "embeddings = model.encode(texts, batch_size=64, show_progress_bar=True)\n",
    "embeddings = np.array(embeddings)\n",
    "\n",
    "print(\"임베딩 생성 완료, 임베딩 shape:\", embeddings.shape)\n"
   ]
  },
  {
   "cell_type": "code",
   "execution_count": 5,
   "metadata": {},
   "outputs": [
    {
     "name": "stdout",
     "output_type": "stream",
     "text": [
      "추천 결과:\n",
      "제육볶음 (추천도: 0.725)\n",
      "떡볶이 (추천도: 0.654)\n",
      "비빔밥 (추천도: 0.631)\n",
      "삼겹살 (추천도: 0.617)\n",
      "샐러드 (추천도: 0.616)\n"
     ]
    }
   ],
   "source": [
    "def get_user_profile_embedding(favorite_foods):\n",
    "    \"\"\"\n",
    "    favorite_foods: 사용자가 좋아하는 음식 리스트 (예: [\"비빔밥\", \"김치찌개\", ...])\n",
    "    model: SentenceTransformer 모델\n",
    "    반환: 평균 사용자 프로필 임베딩 (numpy array)\n",
    "    \"\"\"\n",
    "    food_infos = []\n",
    "    for food in favorite_foods:\n",
    "        food_info = extract_menu_info(food)\n",
    "        if food_info:\n",
    "            food_infos.append(food + \": \" + food_info[\"ingredients\"])\n",
    "        else:\n",
    "            food_infos.append(food)             \n",
    "    user_embeddings = model.encode(food_infos)\n",
    "    user_profile = np.mean(user_embeddings, axis=0)\n",
    "    return user_profile\n",
    "\n",
    "def recommend_menu_from_scanned_menu(user_favorites, menu_items, top_n=5):\n",
    "    \"\"\"\n",
    "    user_favorites: 사용자의 선호 음식 리스트 (음식 이름+재료 결합 텍스트, 예: [\"비빔밥\", \"김치찌개\", ...])\n",
    "    menu_items: 백엔드에서 받아온 메뉴판 데이터 (예: [\"불고기\", \"치킨\", ...])\n",
    "    top_n: 추천할 메뉴 수\n",
    "\n",
    "    반환: 사용자의 선호 클러스터와 해당 클러스터 내에서 코사인 유사도 기준으로 정렬된 추천 메뉴 리스트 (메뉴 텍스트와 유사도 포함)\n",
    "    \"\"\"\n",
    "    # 1. 사용자 선호 음식으로부터 사용자 프로필 임베딩 생성\n",
    "    user_profile = get_user_profile_embedding(user_favorites)\n",
    "\n",
    "    # 2. 메뉴판 데이터에 대해 S-BERT 임베딩 생성\n",
    "    menu_infos = []\n",
    "    for menu_item in menu_items:\n",
    "        menu_info = extract_menu_info(menu_item)\n",
    "        if menu_info:\n",
    "            menu_infos.append(menu_item + \": \" + menu_info[\"ingredients\"])\n",
    "    if not menu_infos: # 빈 리스트가 될 경우 raise error\n",
    "        raise Exception(\"메뉴판이 제대로 인식되지 않았거나 데이터셋에 포함된 음식이 없습니다.\")\n",
    "    menu_embeddings = model.encode(menu_items)\n",
    "    menu_embeddings = np.array(menu_embeddings)\n",
    "\n",
    "    # 3. 메뉴 항목과 사용자 프로필 간 코사인 유사도 계산\n",
    "    similarities = cosine_similarity([user_profile], menu_embeddings)[0]\n",
    "\n",
    "    # 4. 유사도 기준 내림차순 정렬하여 상위 top_n 메뉴 선택\n",
    "    sorted_idx = np.argsort(similarities)[::-1]\n",
    "\n",
    "    # 5. 추천 결과 출력: 메뉴 텍스트와 해당 유사도 점수\n",
    "    recommendations = []\n",
    "    cnt, i = 0, 0\n",
    "    while cnt < top_n:\n",
    "        # 알러지 필터링은 나중에 구현\n",
    "        recommendations.append((menu_items[sorted_idx[i]], similarities[sorted_idx[i]]))\n",
    "        i += 1\n",
    "        if i >= len(menu_items):\n",
    "            break\n",
    "        cnt += 1  # 알러지 필터링 할 때는 따로 빼서 할 예정\n",
    "\n",
    "    return recommendations\n",
    "\n",
    "# 예시 실행:\n",
    "# 사용자 선호 음식 \n",
    "user_favorites = [\"비빔밥\", \"김치찌개\", \"된장찌개\", \"불고기\", \"잡채\"]\n",
    "\n",
    "# 메뉴판 데이터 (더미 데이터 예시)\n",
    "dummy_menu_items = [\n",
    "    \"불고기\", \"비빔밥\", \"김치찌개\", \"된장찌개\", \"잡채\", \"갈비탕\", \"순두부찌개\", \"떡볶이\", \"비빔냉면\", \n",
    "    \"삼겹살\", \"냉면\", \"제육볶음\", \"콩나물국\", \"치킨\", \"피자\", \"파스타\", \"샐러드\", \"스테이크\", \"라멘\", \"초밥\"\n",
    "]\n",
    "\n",
    "\n",
    "recommendations = recommend_menu_from_scanned_menu(user_favorites, dummy_menu_items, top_n=5)\n",
    "\n",
    "print(\"추천 결과:\")\n",
    "for item, score in recommendations:\n",
    "    print(f\"{item} (추천도: {score:.3f})\")\n"
   ]
  }
 ],
 "metadata": {
  "kernelspec": {
   "display_name": "Capstone Python",
   "language": "python",
   "name": "capstone_env"
  },
  "language_info": {
   "codemirror_mode": {
    "name": "ipython",
    "version": 3
   },
   "file_extension": ".py",
   "mimetype": "text/x-python",
   "name": "python",
   "nbconvert_exporter": "python",
   "pygments_lexer": "ipython3",
   "version": "3.11.11"
  }
 },
 "nbformat": 4,
 "nbformat_minor": 2
}
