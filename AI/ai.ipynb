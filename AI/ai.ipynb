{
  "cells": [
    {
      "cell_type": "code",
      "execution_count": 2,
      "metadata": {
        "id": "GYVg1BMxorIM"
      },
      "outputs": [],
      "source": [
        "# 필요한 패키지 설치 (Colab 환경에서는 필요 시 주석 해제)\n",
        "# !pip install sentence-transformers\n",
        "\n",
        "from sentence_transformers import SentenceTransformer\n",
        "import numpy as np\n",
        "import json\n",
        "from sklearn.metrics.pairwise import cosine_similarity"
      ]
    },
    {
      "cell_type": "code",
      "execution_count": 3,
      "metadata": {
        "id": "5Ul2hkZPorIO"
      },
      "outputs": [],
      "source": [
        "with open(\"translated_menu_structured.json\", \"r\", encoding=\"utf-8\") as f:\n",
        "    menu_database = json.load(f)"
      ]
    },
    {
      "cell_type": "code",
      "execution_count": 4,
      "metadata": {
        "id": "9AnM9jXnorIP"
      },
      "outputs": [],
      "source": [
        "def extract_menu_info(korean_menu_name):\n",
        "    for item in menu_database:\n",
        "        if item[\"menu_name\"][\"ko\"] == korean_menu_name:\n",
        "            return {\n",
        "                \"menu_name_translations\": {\n",
        "                    \"en\": item[\"menu_name\"].get(\"en\", \"\"),\n",
        "                    \"zh\": item[\"menu_name\"].get(\"zh\", \"\"),\n",
        "                    \"ja\": item[\"menu_name\"].get(\"ja\", \"\")\n",
        "                },\n",
        "                \"ingredients\": item[\"ingredients\"].get(\"ko\", \"\")\n",
        "            }\n",
        "    return None"
      ]
    },
    {
      "cell_type": "code",
      "execution_count": 5,
      "metadata": {
        "colab": {
          "base_uri": "https://localhost:8080/",
          "height": 191,
          "referenced_widgets": [
            "09f82572e94f479883ea3a3e24d40c19",
            "a2200589c449464cb963e4734762beb1",
            "6fcf153e549b4eeab20bbbe46eea1774",
            "a1f80c2209bb4b4ca1f2cb1491b5f6b2",
            "bb227ab0f00e4259b77cf92f8dd36892",
            "34fdd7fd457b4d17bc064f79ce84638d",
            "0701b5e89cdd486f980c6b0247d7bca5",
            "5844e1937dd3432ba21a0a0325f370d3",
            "617196a7d2f94ad0b494e9837102b158",
            "f5446f0c37454cb7b21ddb1c84429650",
            "278ae35850454d1f8a7864594133e74d"
          ]
        },
        "id": "NZy4KwMiorIQ",
        "outputId": "19d3df36-56ba-422b-92e4-9ef54d4a313d"
      },
      "outputs": [
        {
          "output_type": "stream",
          "name": "stderr",
          "text": [
            "/usr/local/lib/python3.11/dist-packages/huggingface_hub/utils/_auth.py:94: UserWarning: \n",
            "The secret `HF_TOKEN` does not exist in your Colab secrets.\n",
            "To authenticate with the Hugging Face Hub, create a token in your settings tab (https://huggingface.co/settings/tokens), set it as secret in your Google Colab and restart your session.\n",
            "You will be able to reuse this secret in all of your notebooks.\n",
            "Please note that authentication is recommended but still optional to access public models or datasets.\n",
            "  warnings.warn(\n"
          ]
        },
        {
          "output_type": "display_data",
          "data": {
            "text/plain": [
              "Batches:   0%|          | 0/860 [00:00<?, ?it/s]"
            ],
            "application/vnd.jupyter.widget-view+json": {
              "version_major": 2,
              "version_minor": 0,
              "model_id": "09f82572e94f479883ea3a3e24d40c19"
            }
          },
          "metadata": {}
        },
        {
          "output_type": "stream",
          "name": "stdout",
          "text": [
            "임베딩 생성 완료, 임베딩 shape: (55019, 768)\n"
          ]
        }
      ],
      "source": [
        "# 다국어 지원 S-BERT 모델 로드 (예: paraphrase-multilingual-mpnet-base-v2)\n",
        "model = SentenceTransformer(\"paraphrase-multilingual-mpnet-base-v2\")\n",
        "\n",
        "# 전처리된 텍스트 리스트 추출\n",
        "texts = [item[\"menu_name\"][\"ko\"] + \": \" + item[\"ingredients\"][\"ko\"] for item in menu_database]\n",
        "\n",
        "# S-BERT를 통해 임베딩 생성 (대량 데이터의 경우 배치 사이즈 조절)\n",
        "embeddings = model.encode(texts, batch_size=64, show_progress_bar=True)\n",
        "embeddings = np.array(embeddings)\n",
        "\n",
        "print(\"임베딩 생성 완료, 임베딩 shape:\", embeddings.shape)\n"
      ]
    },
    {
      "cell_type": "code",
      "execution_count": 6,
      "metadata": {
        "colab": {
          "base_uri": "https://localhost:8080/"
        },
        "id": "KvvgSojxorIQ",
        "outputId": "cb4ee191-a11a-4dc5-d393-2033d679b1fe"
      },
      "outputs": [
        {
          "output_type": "stream",
          "name": "stdout",
          "text": [
            "추천 결과:\n",
            "제육볶음 (추천도: 0.725)\n",
            "떡볶이 (추천도: 0.654)\n",
            "비빔밥 (추천도: 0.631)\n",
            "삼겹살 (추천도: 0.617)\n",
            "샐러드 (추천도: 0.616)\n"
          ]
        }
      ],
      "source": [
        "def get_user_profile_embedding(favorite_foods):\n",
        "    \"\"\"\n",
        "    favorite_foods: 사용자가 좋아하는 음식 리스트 (예: [\"비빔밥\", \"김치찌개\", ...])\n",
        "    model: SentenceTransformer 모델\n",
        "    반환: 평균 사용자 프로필 임베딩 (numpy array)\n",
        "    \"\"\"\n",
        "    food_infos = []\n",
        "    for food in favorite_foods:\n",
        "        food_info = extract_menu_info(food)\n",
        "        if food_info:\n",
        "            food_infos.append(food + \": \" + food_info[\"ingredients\"])\n",
        "        else:\n",
        "            food_infos.append(food)\n",
        "    user_embeddings = model.encode(food_infos)\n",
        "    user_profile = np.mean(user_embeddings, axis=0)\n",
        "    return user_profile\n",
        "\n",
        "def recommend_menu_from_scanned_menu(user_favorites, menu_items, top_n=5):\n",
        "    \"\"\"\n",
        "    user_favorites: 사용자의 선호 음식 리스트 (음식 이름+재료 결합 텍스트, 예: [\"비빔밥\", \"김치찌개\", ...])\n",
        "    menu_items: 백엔드에서 받아온 메뉴판 데이터 (예: [\"불고기\", \"치킨\", ...])\n",
        "    top_n: 추천할 메뉴 수\n",
        "\n",
        "    반환: 사용자의 선호 클러스터와 해당 클러스터 내에서 코사인 유사도 기준으로 정렬된 추천 메뉴 리스트 (메뉴 텍스트와 유사도 포함)\n",
        "    \"\"\"\n",
        "    # 1. 사용자 선호 음식으로부터 사용자 프로필 임베딩 생성\n",
        "    user_profile = get_user_profile_embedding(user_favorites)\n",
        "\n",
        "    # 2. 메뉴판 데이터에 대해 S-BERT 임베딩 생성\n",
        "    menu_infos = []\n",
        "    for menu_item in menu_items:\n",
        "        menu_info = extract_menu_info(menu_item)\n",
        "        if menu_info:\n",
        "            menu_infos.append(menu_item + \": \" + menu_info[\"ingredients\"])\n",
        "    if not menu_infos: # 빈 리스트가 될 경우 raise error\n",
        "        raise Exception(\"메뉴판이 제대로 인식되지 않았거나 데이터셋에 포함된 음식이 없습니다.\")\n",
        "    menu_embeddings = model.encode(menu_items)\n",
        "    menu_embeddings = np.array(menu_embeddings)\n",
        "\n",
        "    # 3. 메뉴 항목과 사용자 프로필 간 코사인 유사도 계산\n",
        "    similarities = cosine_similarity([user_profile], menu_embeddings)[0]\n",
        "\n",
        "    # 4. 유사도 기준 내림차순 정렬하여 상위 top_n 메뉴 선택\n",
        "    sorted_idx = np.argsort(similarities)[::-1]\n",
        "\n",
        "    # 5. 추천 결과 출력: 메뉴 텍스트와 해당 유사도 점수\n",
        "    recommendations = []\n",
        "    cnt, i = 0, 0\n",
        "    while cnt < top_n:\n",
        "        # 알러지 필터링은 나중에 구현\n",
        "        recommendations.append((menu_items[sorted_idx[i]], similarities[sorted_idx[i]]))\n",
        "        i += 1\n",
        "        if i >= len(menu_items):\n",
        "            break\n",
        "        cnt += 1  # 알러지 필터링 할 때는 따로 빼서 할 예정\n",
        "\n",
        "    return recommendations\n",
        "\n",
        "# 예시 실행:\n",
        "# 사용자 선호 음식\n",
        "user_favorites = [\"비빔밥\", \"김치찌개\", \"된장찌개\", \"불고기\", \"잡채\"]\n",
        "\n",
        "# 메뉴판 데이터 (더미 데이터 예시)\n",
        "dummy_menu_items = [\n",
        "    \"불고기\", \"비빔밥\", \"김치찌개\", \"된장찌개\", \"잡채\", \"갈비탕\", \"순두부찌개\", \"떡볶이\", \"비빔냉면\",\n",
        "    \"삼겹살\", \"냉면\", \"제육볶음\", \"콩나물국\", \"치킨\", \"피자\", \"파스타\", \"샐러드\", \"스테이크\", \"라멘\", \"초밥\"\n",
        "]\n",
        "\n",
        "\n",
        "recommendations = recommend_menu_from_scanned_menu(user_favorites, dummy_menu_items, top_n=5)\n",
        "\n",
        "print(\"추천 결과:\")\n",
        "for item, score in recommendations:\n",
        "    print(f\"{item} (추천도: {score:.3f})\")\n"
      ]
    },
    {
      "cell_type": "code",
      "source": [
        "!pip install googletrans==4.0.0-rc1"
      ],
      "metadata": {
        "colab": {
          "base_uri": "https://localhost:8080/",
          "height": 1000
        },
        "id": "f4WyzKZOrHxy",
        "outputId": "51c42f44-cf5e-4e2b-8758-b7aa5ff7251e"
      },
      "execution_count": 7,
      "outputs": [
        {
          "output_type": "stream",
          "name": "stdout",
          "text": [
            "Collecting googletrans==4.0.0-rc1\n",
            "  Downloading googletrans-4.0.0rc1.tar.gz (20 kB)\n",
            "  Preparing metadata (setup.py) ... \u001b[?25l\u001b[?25hdone\n",
            "Collecting httpx==0.13.3 (from googletrans==4.0.0-rc1)\n",
            "  Downloading httpx-0.13.3-py3-none-any.whl.metadata (25 kB)\n",
            "Requirement already satisfied: certifi in /usr/local/lib/python3.11/dist-packages (from httpx==0.13.3->googletrans==4.0.0-rc1) (2025.4.26)\n",
            "Collecting hstspreload (from httpx==0.13.3->googletrans==4.0.0-rc1)\n",
            "  Downloading hstspreload-2025.1.1-py3-none-any.whl.metadata (2.1 kB)\n",
            "Requirement already satisfied: sniffio in /usr/local/lib/python3.11/dist-packages (from httpx==0.13.3->googletrans==4.0.0-rc1) (1.3.1)\n",
            "Collecting chardet==3.* (from httpx==0.13.3->googletrans==4.0.0-rc1)\n",
            "  Downloading chardet-3.0.4-py2.py3-none-any.whl.metadata (3.2 kB)\n",
            "Collecting idna==2.* (from httpx==0.13.3->googletrans==4.0.0-rc1)\n",
            "  Downloading idna-2.10-py2.py3-none-any.whl.metadata (9.1 kB)\n",
            "Collecting rfc3986<2,>=1.3 (from httpx==0.13.3->googletrans==4.0.0-rc1)\n",
            "  Downloading rfc3986-1.5.0-py2.py3-none-any.whl.metadata (6.5 kB)\n",
            "Collecting httpcore==0.9.* (from httpx==0.13.3->googletrans==4.0.0-rc1)\n",
            "  Downloading httpcore-0.9.1-py3-none-any.whl.metadata (4.6 kB)\n",
            "Collecting h11<0.10,>=0.8 (from httpcore==0.9.*->httpx==0.13.3->googletrans==4.0.0-rc1)\n",
            "  Downloading h11-0.9.0-py2.py3-none-any.whl.metadata (8.1 kB)\n",
            "Collecting h2==3.* (from httpcore==0.9.*->httpx==0.13.3->googletrans==4.0.0-rc1)\n",
            "  Downloading h2-3.2.0-py2.py3-none-any.whl.metadata (32 kB)\n",
            "Collecting hyperframe<6,>=5.2.0 (from h2==3.*->httpcore==0.9.*->httpx==0.13.3->googletrans==4.0.0-rc1)\n",
            "  Downloading hyperframe-5.2.0-py2.py3-none-any.whl.metadata (7.2 kB)\n",
            "Collecting hpack<4,>=3.0 (from h2==3.*->httpcore==0.9.*->httpx==0.13.3->googletrans==4.0.0-rc1)\n",
            "  Downloading hpack-3.0.0-py2.py3-none-any.whl.metadata (7.0 kB)\n",
            "Downloading httpx-0.13.3-py3-none-any.whl (55 kB)\n",
            "\u001b[2K   \u001b[90m━━━━━━━━━━━━━━━━━━━━━━━━━━━━━━━━━━━━━━━━\u001b[0m \u001b[32m55.1/55.1 kB\u001b[0m \u001b[31m6.0 MB/s\u001b[0m eta \u001b[36m0:00:00\u001b[0m\n",
            "\u001b[?25hDownloading chardet-3.0.4-py2.py3-none-any.whl (133 kB)\n",
            "\u001b[2K   \u001b[90m━━━━━━━━━━━━━━━━━━━━━━━━━━━━━━━━━━━━━━━━\u001b[0m \u001b[32m133.4/133.4 kB\u001b[0m \u001b[31m10.7 MB/s\u001b[0m eta \u001b[36m0:00:00\u001b[0m\n",
            "\u001b[?25hDownloading httpcore-0.9.1-py3-none-any.whl (42 kB)\n",
            "\u001b[2K   \u001b[90m━━━━━━━━━━━━━━━━━━━━━━━━━━━━━━━━━━━━━━━━\u001b[0m \u001b[32m42.6/42.6 kB\u001b[0m \u001b[31m3.7 MB/s\u001b[0m eta \u001b[36m0:00:00\u001b[0m\n",
            "\u001b[?25hDownloading idna-2.10-py2.py3-none-any.whl (58 kB)\n",
            "\u001b[2K   \u001b[90m━━━━━━━━━━━━━━━━━━━━━━━━━━━━━━━━━━━━━━━━\u001b[0m \u001b[32m58.8/58.8 kB\u001b[0m \u001b[31m6.6 MB/s\u001b[0m eta \u001b[36m0:00:00\u001b[0m\n",
            "\u001b[?25hDownloading h2-3.2.0-py2.py3-none-any.whl (65 kB)\n",
            "\u001b[2K   \u001b[90m━━━━━━━━━━━━━━━━━━━━━━━━━━━━━━━━━━━━━━━━\u001b[0m \u001b[32m65.0/65.0 kB\u001b[0m \u001b[31m7.0 MB/s\u001b[0m eta \u001b[36m0:00:00\u001b[0m\n",
            "\u001b[?25hDownloading rfc3986-1.5.0-py2.py3-none-any.whl (31 kB)\n",
            "Downloading hstspreload-2025.1.1-py3-none-any.whl (1.3 MB)\n",
            "\u001b[2K   \u001b[90m━━━━━━━━━━━━━━━━━━━━━━━━━━━━━━━━━━━━━━━━\u001b[0m \u001b[32m1.3/1.3 MB\u001b[0m \u001b[31m50.2 MB/s\u001b[0m eta \u001b[36m0:00:00\u001b[0m\n",
            "\u001b[?25hDownloading h11-0.9.0-py2.py3-none-any.whl (53 kB)\n",
            "\u001b[2K   \u001b[90m━━━━━━━━━━━━━━━━━━━━━━━━━━━━━━━━━━━━━━━━\u001b[0m \u001b[32m53.6/53.6 kB\u001b[0m \u001b[31m5.7 MB/s\u001b[0m eta \u001b[36m0:00:00\u001b[0m\n",
            "\u001b[?25hDownloading hpack-3.0.0-py2.py3-none-any.whl (38 kB)\n",
            "Downloading hyperframe-5.2.0-py2.py3-none-any.whl (12 kB)\n",
            "Building wheels for collected packages: googletrans\n",
            "  Building wheel for googletrans (setup.py) ... \u001b[?25l\u001b[?25hdone\n",
            "  Created wheel for googletrans: filename=googletrans-4.0.0rc1-py3-none-any.whl size=17396 sha256=55180c53edec08970047f671d8aec848a24e0a0465d36dd9f008dee3ad183d13\n",
            "  Stored in directory: /root/.cache/pip/wheels/39/17/6f/66a045ea3d168826074691b4b787b8f324d3f646d755443fda\n",
            "Successfully built googletrans\n",
            "Installing collected packages: rfc3986, hyperframe, hpack, h11, chardet, idna, hstspreload, h2, httpcore, httpx, googletrans\n",
            "  Attempting uninstall: hyperframe\n",
            "    Found existing installation: hyperframe 6.1.0\n",
            "    Uninstalling hyperframe-6.1.0:\n",
            "      Successfully uninstalled hyperframe-6.1.0\n",
            "  Attempting uninstall: hpack\n",
            "    Found existing installation: hpack 4.1.0\n",
            "    Uninstalling hpack-4.1.0:\n",
            "      Successfully uninstalled hpack-4.1.0\n",
            "  Attempting uninstall: h11\n",
            "    Found existing installation: h11 0.16.0\n",
            "    Uninstalling h11-0.16.0:\n",
            "      Successfully uninstalled h11-0.16.0\n",
            "  Attempting uninstall: chardet\n",
            "    Found existing installation: chardet 5.2.0\n",
            "    Uninstalling chardet-5.2.0:\n",
            "      Successfully uninstalled chardet-5.2.0\n",
            "  Attempting uninstall: idna\n",
            "    Found existing installation: idna 3.10\n",
            "    Uninstalling idna-3.10:\n",
            "      Successfully uninstalled idna-3.10\n",
            "  Attempting uninstall: h2\n",
            "    Found existing installation: h2 4.2.0\n",
            "    Uninstalling h2-4.2.0:\n",
            "      Successfully uninstalled h2-4.2.0\n",
            "  Attempting uninstall: httpcore\n",
            "    Found existing installation: httpcore 1.0.9\n",
            "    Uninstalling httpcore-1.0.9:\n",
            "      Successfully uninstalled httpcore-1.0.9\n",
            "  Attempting uninstall: httpx\n",
            "    Found existing installation: httpx 0.28.1\n",
            "    Uninstalling httpx-0.28.1:\n",
            "      Successfully uninstalled httpx-0.28.1\n",
            "\u001b[31mERROR: pip's dependency resolver does not currently take into account all the packages that are installed. This behaviour is the source of the following dependency conflicts.\n",
            "google-genai 1.12.1 requires httpx<1.0.0,>=0.28.1, but you have httpx 0.13.3 which is incompatible.\n",
            "langsmith 0.3.38 requires httpx<1,>=0.23.0, but you have httpx 0.13.3 which is incompatible.\n",
            "openai 1.76.0 requires httpx<1,>=0.23.0, but you have httpx 0.13.3 which is incompatible.\u001b[0m\u001b[31m\n",
            "\u001b[0mSuccessfully installed chardet-3.0.4 googletrans-4.0.0rc1 h11-0.9.0 h2-3.2.0 hpack-3.0.0 hstspreload-2025.1.1 httpcore-0.9.1 httpx-0.13.3 hyperframe-5.2.0 idna-2.10 rfc3986-1.5.0\n"
          ]
        },
        {
          "output_type": "display_data",
          "data": {
            "application/vnd.colab-display-data+json": {
              "pip_warning": {
                "packages": [
                  "chardet",
                  "h11",
                  "h2",
                  "hpack",
                  "httpcore",
                  "hyperframe",
                  "idna"
                ]
              },
              "id": "52ea39830e5342ce99936a69a92e482f"
            }
          },
          "metadata": {}
        }
      ]
    },
    {
      "cell_type": "code",
      "source": [
        "from googletrans import Translator\n",
        "\n",
        "translator = Translator()\n",
        "\n",
        "langs = {\"중국어\": \"zh-cn\", \"일본어\": \"ja\", \"영어\": \"en\"}\n",
        "user_lang = \"영어\"\n",
        "\n",
        "for item, _ in recommendations:\n",
        "    if user_lang == \"한국어\":\n",
        "        print(item)\n",
        "    else:\n",
        "        print(translator.translate(item, dest=langs[user_lang]).text)"
      ],
      "metadata": {
        "colab": {
          "base_uri": "https://localhost:8080/"
        },
        "id": "REm-VFNYpIdN",
        "outputId": "b02ad8d2-07b2-49d9-f4fd-2f91aaee039a"
      },
      "execution_count": 12,
      "outputs": [
        {
          "output_type": "stream",
          "name": "stdout",
          "text": [
            "Stir -fried\n",
            "tteokbokki\n",
            "Bibimbap\n",
            "pork belly\n",
            "salad\n"
          ]
        }
      ]
    }
  ],
  "metadata": {
    "kernelspec": {
      "display_name": "Capstone Python",
      "language": "python",
      "name": "capstone_env"
    },
    "language_info": {
      "codemirror_mode": {
        "name": "ipython",
        "version": 3
      },
      "file_extension": ".py",
      "mimetype": "text/x-python",
      "name": "python",
      "nbconvert_exporter": "python",
      "pygments_lexer": "ipython3",
      "version": "3.11.11"
    },
    "colab": {
      "provenance": [],
      "gpuType": "T4"
    },
    "accelerator": "GPU",
    "widgets": {
      "application/vnd.jupyter.widget-state+json": {
        "09f82572e94f479883ea3a3e24d40c19": {
          "model_module": "@jupyter-widgets/controls",
          "model_name": "HBoxModel",
          "model_module_version": "1.5.0",
          "state": {
            "_dom_classes": [],
            "_model_module": "@jupyter-widgets/controls",
            "_model_module_version": "1.5.0",
            "_model_name": "HBoxModel",
            "_view_count": null,
            "_view_module": "@jupyter-widgets/controls",
            "_view_module_version": "1.5.0",
            "_view_name": "HBoxView",
            "box_style": "",
            "children": [
              "IPY_MODEL_a2200589c449464cb963e4734762beb1",
              "IPY_MODEL_6fcf153e549b4eeab20bbbe46eea1774",
              "IPY_MODEL_a1f80c2209bb4b4ca1f2cb1491b5f6b2"
            ],
            "layout": "IPY_MODEL_bb227ab0f00e4259b77cf92f8dd36892"
          }
        },
        "a2200589c449464cb963e4734762beb1": {
          "model_module": "@jupyter-widgets/controls",
          "model_name": "HTMLModel",
          "model_module_version": "1.5.0",
          "state": {
            "_dom_classes": [],
            "_model_module": "@jupyter-widgets/controls",
            "_model_module_version": "1.5.0",
            "_model_name": "HTMLModel",
            "_view_count": null,
            "_view_module": "@jupyter-widgets/controls",
            "_view_module_version": "1.5.0",
            "_view_name": "HTMLView",
            "description": "",
            "description_tooltip": null,
            "layout": "IPY_MODEL_34fdd7fd457b4d17bc064f79ce84638d",
            "placeholder": "​",
            "style": "IPY_MODEL_0701b5e89cdd486f980c6b0247d7bca5",
            "value": "Batches: 100%"
          }
        },
        "6fcf153e549b4eeab20bbbe46eea1774": {
          "model_module": "@jupyter-widgets/controls",
          "model_name": "FloatProgressModel",
          "model_module_version": "1.5.0",
          "state": {
            "_dom_classes": [],
            "_model_module": "@jupyter-widgets/controls",
            "_model_module_version": "1.5.0",
            "_model_name": "FloatProgressModel",
            "_view_count": null,
            "_view_module": "@jupyter-widgets/controls",
            "_view_module_version": "1.5.0",
            "_view_name": "ProgressView",
            "bar_style": "success",
            "description": "",
            "description_tooltip": null,
            "layout": "IPY_MODEL_5844e1937dd3432ba21a0a0325f370d3",
            "max": 860,
            "min": 0,
            "orientation": "horizontal",
            "style": "IPY_MODEL_617196a7d2f94ad0b494e9837102b158",
            "value": 860
          }
        },
        "a1f80c2209bb4b4ca1f2cb1491b5f6b2": {
          "model_module": "@jupyter-widgets/controls",
          "model_name": "HTMLModel",
          "model_module_version": "1.5.0",
          "state": {
            "_dom_classes": [],
            "_model_module": "@jupyter-widgets/controls",
            "_model_module_version": "1.5.0",
            "_model_name": "HTMLModel",
            "_view_count": null,
            "_view_module": "@jupyter-widgets/controls",
            "_view_module_version": "1.5.0",
            "_view_name": "HTMLView",
            "description": "",
            "description_tooltip": null,
            "layout": "IPY_MODEL_f5446f0c37454cb7b21ddb1c84429650",
            "placeholder": "​",
            "style": "IPY_MODEL_278ae35850454d1f8a7864594133e74d",
            "value": " 860/860 [03:26&lt;00:00, 18.92it/s]"
          }
        },
        "bb227ab0f00e4259b77cf92f8dd36892": {
          "model_module": "@jupyter-widgets/base",
          "model_name": "LayoutModel",
          "model_module_version": "1.2.0",
          "state": {
            "_model_module": "@jupyter-widgets/base",
            "_model_module_version": "1.2.0",
            "_model_name": "LayoutModel",
            "_view_count": null,
            "_view_module": "@jupyter-widgets/base",
            "_view_module_version": "1.2.0",
            "_view_name": "LayoutView",
            "align_content": null,
            "align_items": null,
            "align_self": null,
            "border": null,
            "bottom": null,
            "display": null,
            "flex": null,
            "flex_flow": null,
            "grid_area": null,
            "grid_auto_columns": null,
            "grid_auto_flow": null,
            "grid_auto_rows": null,
            "grid_column": null,
            "grid_gap": null,
            "grid_row": null,
            "grid_template_areas": null,
            "grid_template_columns": null,
            "grid_template_rows": null,
            "height": null,
            "justify_content": null,
            "justify_items": null,
            "left": null,
            "margin": null,
            "max_height": null,
            "max_width": null,
            "min_height": null,
            "min_width": null,
            "object_fit": null,
            "object_position": null,
            "order": null,
            "overflow": null,
            "overflow_x": null,
            "overflow_y": null,
            "padding": null,
            "right": null,
            "top": null,
            "visibility": null,
            "width": null
          }
        },
        "34fdd7fd457b4d17bc064f79ce84638d": {
          "model_module": "@jupyter-widgets/base",
          "model_name": "LayoutModel",
          "model_module_version": "1.2.0",
          "state": {
            "_model_module": "@jupyter-widgets/base",
            "_model_module_version": "1.2.0",
            "_model_name": "LayoutModel",
            "_view_count": null,
            "_view_module": "@jupyter-widgets/base",
            "_view_module_version": "1.2.0",
            "_view_name": "LayoutView",
            "align_content": null,
            "align_items": null,
            "align_self": null,
            "border": null,
            "bottom": null,
            "display": null,
            "flex": null,
            "flex_flow": null,
            "grid_area": null,
            "grid_auto_columns": null,
            "grid_auto_flow": null,
            "grid_auto_rows": null,
            "grid_column": null,
            "grid_gap": null,
            "grid_row": null,
            "grid_template_areas": null,
            "grid_template_columns": null,
            "grid_template_rows": null,
            "height": null,
            "justify_content": null,
            "justify_items": null,
            "left": null,
            "margin": null,
            "max_height": null,
            "max_width": null,
            "min_height": null,
            "min_width": null,
            "object_fit": null,
            "object_position": null,
            "order": null,
            "overflow": null,
            "overflow_x": null,
            "overflow_y": null,
            "padding": null,
            "right": null,
            "top": null,
            "visibility": null,
            "width": null
          }
        },
        "0701b5e89cdd486f980c6b0247d7bca5": {
          "model_module": "@jupyter-widgets/controls",
          "model_name": "DescriptionStyleModel",
          "model_module_version": "1.5.0",
          "state": {
            "_model_module": "@jupyter-widgets/controls",
            "_model_module_version": "1.5.0",
            "_model_name": "DescriptionStyleModel",
            "_view_count": null,
            "_view_module": "@jupyter-widgets/base",
            "_view_module_version": "1.2.0",
            "_view_name": "StyleView",
            "description_width": ""
          }
        },
        "5844e1937dd3432ba21a0a0325f370d3": {
          "model_module": "@jupyter-widgets/base",
          "model_name": "LayoutModel",
          "model_module_version": "1.2.0",
          "state": {
            "_model_module": "@jupyter-widgets/base",
            "_model_module_version": "1.2.0",
            "_model_name": "LayoutModel",
            "_view_count": null,
            "_view_module": "@jupyter-widgets/base",
            "_view_module_version": "1.2.0",
            "_view_name": "LayoutView",
            "align_content": null,
            "align_items": null,
            "align_self": null,
            "border": null,
            "bottom": null,
            "display": null,
            "flex": null,
            "flex_flow": null,
            "grid_area": null,
            "grid_auto_columns": null,
            "grid_auto_flow": null,
            "grid_auto_rows": null,
            "grid_column": null,
            "grid_gap": null,
            "grid_row": null,
            "grid_template_areas": null,
            "grid_template_columns": null,
            "grid_template_rows": null,
            "height": null,
            "justify_content": null,
            "justify_items": null,
            "left": null,
            "margin": null,
            "max_height": null,
            "max_width": null,
            "min_height": null,
            "min_width": null,
            "object_fit": null,
            "object_position": null,
            "order": null,
            "overflow": null,
            "overflow_x": null,
            "overflow_y": null,
            "padding": null,
            "right": null,
            "top": null,
            "visibility": null,
            "width": null
          }
        },
        "617196a7d2f94ad0b494e9837102b158": {
          "model_module": "@jupyter-widgets/controls",
          "model_name": "ProgressStyleModel",
          "model_module_version": "1.5.0",
          "state": {
            "_model_module": "@jupyter-widgets/controls",
            "_model_module_version": "1.5.0",
            "_model_name": "ProgressStyleModel",
            "_view_count": null,
            "_view_module": "@jupyter-widgets/base",
            "_view_module_version": "1.2.0",
            "_view_name": "StyleView",
            "bar_color": null,
            "description_width": ""
          }
        },
        "f5446f0c37454cb7b21ddb1c84429650": {
          "model_module": "@jupyter-widgets/base",
          "model_name": "LayoutModel",
          "model_module_version": "1.2.0",
          "state": {
            "_model_module": "@jupyter-widgets/base",
            "_model_module_version": "1.2.0",
            "_model_name": "LayoutModel",
            "_view_count": null,
            "_view_module": "@jupyter-widgets/base",
            "_view_module_version": "1.2.0",
            "_view_name": "LayoutView",
            "align_content": null,
            "align_items": null,
            "align_self": null,
            "border": null,
            "bottom": null,
            "display": null,
            "flex": null,
            "flex_flow": null,
            "grid_area": null,
            "grid_auto_columns": null,
            "grid_auto_flow": null,
            "grid_auto_rows": null,
            "grid_column": null,
            "grid_gap": null,
            "grid_row": null,
            "grid_template_areas": null,
            "grid_template_columns": null,
            "grid_template_rows": null,
            "height": null,
            "justify_content": null,
            "justify_items": null,
            "left": null,
            "margin": null,
            "max_height": null,
            "max_width": null,
            "min_height": null,
            "min_width": null,
            "object_fit": null,
            "object_position": null,
            "order": null,
            "overflow": null,
            "overflow_x": null,
            "overflow_y": null,
            "padding": null,
            "right": null,
            "top": null,
            "visibility": null,
            "width": null
          }
        },
        "278ae35850454d1f8a7864594133e74d": {
          "model_module": "@jupyter-widgets/controls",
          "model_name": "DescriptionStyleModel",
          "model_module_version": "1.5.0",
          "state": {
            "_model_module": "@jupyter-widgets/controls",
            "_model_module_version": "1.5.0",
            "_model_name": "DescriptionStyleModel",
            "_view_count": null,
            "_view_module": "@jupyter-widgets/base",
            "_view_module_version": "1.2.0",
            "_view_name": "StyleView",
            "description_width": ""
          }
        }
      }
    }
  },
  "nbformat": 4,
  "nbformat_minor": 0
}